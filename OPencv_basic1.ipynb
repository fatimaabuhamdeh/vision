{
  "nbformat": 4,
  "nbformat_minor": 0,
  "metadata": {
    "colab": {
      "provenance": [],
      "authorship_tag": "ABX9TyPrxlOEd2P8nbNOt4GvbyE1",
      "include_colab_link": true
    },
    "kernelspec": {
      "name": "python3",
      "display_name": "Python 3"
    },
    "language_info": {
      "name": "python"
    }
  },
  "cells": [
    {
      "cell_type": "markdown",
      "metadata": {
        "id": "view-in-github",
        "colab_type": "text"
      },
      "source": [
        "<a href=\"https://colab.research.google.com/github/fatimaabuhamdeh/vision/blob/main/OPencv_basic1.ipynb\" target=\"_parent\"><img src=\"https://colab.research.google.com/assets/colab-badge.svg\" alt=\"Open In Colab\"/></a>"
      ]
    },
    {
      "cell_type": "code",
      "source": [
        "!pip install opencv-contrib-python"
      ],
      "metadata": {
        "colab": {
          "base_uri": "https://localhost:8080/"
        },
        "id": "DbSz9gFsciR1",
        "outputId": "1dc00b85-ec55-4cd5-bb0e-6c4d8958874c"
      },
      "execution_count": 1,
      "outputs": [
        {
          "output_type": "stream",
          "name": "stdout",
          "text": [
            "Requirement already satisfied: opencv-contrib-python in /usr/local/lib/python3.10/dist-packages (4.8.0.76)\n",
            "Requirement already satisfied: numpy>=1.21.2 in /usr/local/lib/python3.10/dist-packages (from opencv-contrib-python) (1.23.5)\n"
          ]
        }
      ]
    },
    {
      "cell_type": "code",
      "source": [
        "import cv2 as cv"
      ],
      "metadata": {
        "id": "QKoNM0EOcyeB"
      },
      "execution_count": 2,
      "outputs": []
    },
    {
      "cell_type": "code",
      "source": [
        "# To read the image\n",
        "img=cv.imread(\"/content/flower purple.jpg\")\n",
        "(h,w,c)=img.shape[:3]\n",
        "print(h, w,c)"
      ],
      "metadata": {
        "colab": {
          "base_uri": "https://localhost:8080/"
        },
        "id": "0GTMlNhHcyRA",
        "outputId": "9e06c8c0-bd97-4d24-f44b-7cd43c65d5b3"
      },
      "execution_count": 4,
      "outputs": [
        {
          "output_type": "stream",
          "name": "stdout",
          "text": [
            "564 1128 3\n"
          ]
        }
      ]
    },
    {
      "cell_type": "code",
      "execution_count": 5,
      "metadata": {
        "id": "WqYLYzA1Igkn",
        "colab": {
          "base_uri": "https://localhost:8080/"
        },
        "outputId": "79aeeab8-74af-40c7-8704-0d67a5774092"
      },
      "outputs": [
        {
          "output_type": "execute_result",
          "data": {
            "text/plain": [
              "True"
            ]
          },
          "metadata": {},
          "execution_count": 5
        }
      ],
      "source": [
        "# To save the image\n",
        "cv.imwrite(\"img1.jpg\",img)"
      ]
    },
    {
      "cell_type": "code",
      "execution_count": 6,
      "metadata": {
        "id": "ZVju1uWNveZC",
        "colab": {
          "base_uri": "https://localhost:8080/"
        },
        "outputId": "ff644290-d5a1-4d35-f772-47fcaf54aa91"
      },
      "outputs": [
        {
          "output_type": "stream",
          "name": "stdout",
          "text": [
            "239 202 218\n"
          ]
        },
        {
          "output_type": "execute_result",
          "data": {
            "text/plain": [
              "True"
            ]
          },
          "metadata": {},
          "execution_count": 6
        }
      ],
      "source": [
        "# To get the color of any pixcle\n",
        "(b , g, r)=img[100,200]\n",
        "print(b,g,r)\n",
        "# To change the color of any pixcle\n",
        "img[100,200]=(0,0,255)\n",
        "cv.imwrite(\"img2.jpg\",img)"
      ]
    },
    {
      "cell_type": "code",
      "execution_count": 7,
      "metadata": {
        "id": "MbhaVg0x0Np_",
        "colab": {
          "base_uri": "https://localhost:8080/"
        },
        "outputId": "a36c7c18-0535-4748-b943-e16d5f90886c"
      },
      "outputs": [
        {
          "output_type": "execute_result",
          "data": {
            "text/plain": [
              "True"
            ]
          },
          "metadata": {},
          "execution_count": 7
        }
      ],
      "source": [
        "#compute the center of the image, which is simply the width and height\n",
        "# divided by two\n",
        "(x,y)=(w//2, h//2)\n",
        "#To can crop the top-right, bottom-right, and\n",
        "# bottom-left corners of the image and then display them\n",
        "TL=img[0:y, 0:x]\n",
        "cv.imwrite(\"topLeft.jpg\", TL)\n",
        "\n",
        "TR=img[0:y, x:w ]\n",
        "cv.imwrite(\"topRight.jpg\", TR)\n",
        "\n",
        "\n",
        "BR=img[y:h, x:w ]\n",
        "cv.imwrite(\"bottomRight.jpg\", BR)\n",
        "\n",
        "\n",
        "BL=img[y:h, 0:x ]\n",
        "cv.imwrite(\"bottomLeft.jpg\", BL)\n",
        "\n"
      ]
    },
    {
      "cell_type": "code",
      "source": [
        "#set the top-left corner of the original image to be blue\n",
        "img[0:y, 0:x] = (255, 0, 0)\n",
        "\n",
        "cv.imwrite(\"topLeft_blue.jpg\", img)\n"
      ],
      "metadata": {
        "id": "_Ykp7ZG8jSnC",
        "colab": {
          "base_uri": "https://localhost:8080/"
        },
        "outputId": "619ff0d6-84f3-4d15-c153-ac8076a24b40"
      },
      "execution_count": 8,
      "outputs": [
        {
          "output_type": "execute_result",
          "data": {
            "text/plain": [
              "True"
            ]
          },
          "metadata": {},
          "execution_count": 8
        }
      ]
    }
  ]
}