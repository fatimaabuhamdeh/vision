{
  "nbformat": 4,
  "nbformat_minor": 0,
  "metadata": {
    "colab": {
      "provenance": [],
      "authorship_tag": "ABX9TyMAUVP+XJfdRFn9VaG2hhV+",
      "include_colab_link": true
    },
    "kernelspec": {
      "name": "python3",
      "display_name": "Python 3"
    },
    "language_info": {
      "name": "python"
    }
  },
  "cells": [
    {
      "cell_type": "markdown",
      "metadata": {
        "id": "view-in-github",
        "colab_type": "text"
      },
      "source": [
        "<a href=\"https://colab.research.google.com/github/fatimaabuhamdeh/vision/blob/main/OPencv_Topic1.ipynb\" target=\"_parent\"><img src=\"https://colab.research.google.com/assets/colab-badge.svg\" alt=\"Open In Colab\"/></a>"
      ]
    },
    {
      "cell_type": "code",
      "execution_count": 10,
      "metadata": {
        "colab": {
          "base_uri": "https://localhost:8080/"
        },
        "id": "Vv6vijNgIMQm",
        "outputId": "fdae6412-868d-4559-86e3-964a6a6711e7"
      },
      "outputs": [
        {
          "output_type": "stream",
          "name": "stdout",
          "text": [
            "Requirement already satisfied: opencv-contrib-python in /usr/local/lib/python3.10/dist-packages (4.8.0.76)\n",
            "Requirement already satisfied: numpy>=1.21.2 in /usr/local/lib/python3.10/dist-packages (from opencv-contrib-python) (1.23.5)\n"
          ]
        }
      ],
      "source": [
        "!pip install opencv-contrib-python\n",
        "import cv2 as cv\n",
        "import numpy as np"
      ]
    },
    {
      "cell_type": "code",
      "source": [
        "#-----------Draw Line---------------------------\n",
        "canvas= np.zeros((500,500,3),dtype=\"uint8\")\n",
        "white=(255,255,255)\n",
        "lineImg1=cv.line(canvas,(0,300),(500,0),white)\n",
        "cv.imwrite(\"Line1.jpg\",lineImg1)\n",
        "\n",
        "canvas= np.zeros((500,500,3),dtype=\"uint8\")\n",
        "red=(0,0,255)\n",
        "lineImg2=cv.line(canvas,(0,500),(500,0),red,10)\n",
        "cv.imwrite(\"Line2.jpg\",lineImg2)\n",
        "\n",
        "#--------------Draw Rectangle--------------------\n",
        "rectanleImg1=cv.rectangle(canvas,(200,200),(300,500),white)\n",
        "cv.imwrite(\"rectangle1.jpg\", rectanleImg1 )\n",
        "\n",
        "\n",
        "rectanleImg2=cv.rectangle(canvas,(200,200),(300,500),white,5)\n",
        "cv.imwrite(\"rectangle2.jpg\", rectanleImg2 )\n",
        "#-----------------------center point------------------------------\n",
        "canvas = np.zeros((500, 500, 3), dtype=\"uint8\")\n",
        "(centerX, centerY) = (canvas.shape[1] // 2, canvas.shape[0] // 2)\n",
        "white = (255, 255, 255)\n",
        "\n",
        "circle1=cv.circle(canvas,(centerX,centerY),100,white,10)\n",
        "cv.imwrite(\"circle1.jpg\", circle1)\n",
        "\n"
      ],
      "metadata": {
        "colab": {
          "base_uri": "https://localhost:8080/"
        },
        "id": "ouYrZcHsI_tz",
        "outputId": "32614544-49d2-43b7-fc33-f5a3abc7c46e"
      },
      "execution_count": 11,
      "outputs": [
        {
          "output_type": "execute_result",
          "data": {
            "text/plain": [
              "True"
            ]
          },
          "metadata": {},
          "execution_count": 11
        }
      ]
    }
  ]
}